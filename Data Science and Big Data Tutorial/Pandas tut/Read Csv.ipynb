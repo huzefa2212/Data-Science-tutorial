{
 "cells": [
  {
   "cell_type": "markdown",
   "metadata": {},
   "source": [
    "## How to read csv"
   ]
  },
  {
   "cell_type": "code",
   "execution_count": 1,
   "metadata": {},
   "outputs": [],
   "source": [
    "import pandas as pd\n",
    "import numpy as np"
   ]
  },
  {
   "cell_type": "code",
   "execution_count": 2,
   "metadata": {},
   "outputs": [],
   "source": [
    "df = pd.read_csv('data.csv')"
   ]
  },
  {
   "cell_type": "code",
   "execution_count": 3,
   "metadata": {},
   "outputs": [
    {
     "data": {
      "text/html": [
       "<div>\n",
       "<style scoped>\n",
       "    .dataframe tbody tr th:only-of-type {\n",
       "        vertical-align: middle;\n",
       "    }\n",
       "\n",
       "    .dataframe tbody tr th {\n",
       "        vertical-align: top;\n",
       "    }\n",
       "\n",
       "    .dataframe thead th {\n",
       "        text-align: right;\n",
       "    }\n",
       "</style>\n",
       "<table border=\"1\" class=\"dataframe\">\n",
       "  <thead>\n",
       "    <tr style=\"text-align: right;\">\n",
       "      <th></th>\n",
       "      <th>Date</th>\n",
       "      <th>Open</th>\n",
       "      <th>High</th>\n",
       "      <th>Low</th>\n",
       "      <th>Close</th>\n",
       "      <th>Shares Traded</th>\n",
       "      <th>Turnover (Rs. Cr)</th>\n",
       "    </tr>\n",
       "  </thead>\n",
       "  <tbody>\n",
       "    <tr>\n",
       "      <th>0</th>\n",
       "      <td>01-Jun-20</td>\n",
       "      <td>9726.85</td>\n",
       "      <td>9931.60</td>\n",
       "      <td>9706.95</td>\n",
       "      <td>9826.15</td>\n",
       "      <td>794183122</td>\n",
       "      <td>38096.92</td>\n",
       "    </tr>\n",
       "    <tr>\n",
       "      <th>1</th>\n",
       "      <td>02-Jun-20</td>\n",
       "      <td>9880.85</td>\n",
       "      <td>9995.60</td>\n",
       "      <td>9824.05</td>\n",
       "      <td>9979.10</td>\n",
       "      <td>770192848</td>\n",
       "      <td>36723.11</td>\n",
       "    </tr>\n",
       "    <tr>\n",
       "      <th>2</th>\n",
       "      <td>03-Jun-20</td>\n",
       "      <td>10108.30</td>\n",
       "      <td>10176.20</td>\n",
       "      <td>10035.55</td>\n",
       "      <td>10061.55</td>\n",
       "      <td>794664422</td>\n",
       "      <td>38343.61</td>\n",
       "    </tr>\n",
       "    <tr>\n",
       "      <th>3</th>\n",
       "      <td>04-Jun-20</td>\n",
       "      <td>10054.25</td>\n",
       "      <td>10123.85</td>\n",
       "      <td>9944.25</td>\n",
       "      <td>10029.10</td>\n",
       "      <td>775106567</td>\n",
       "      <td>36399.04</td>\n",
       "    </tr>\n",
       "    <tr>\n",
       "      <th>4</th>\n",
       "      <td>05-Jun-20</td>\n",
       "      <td>10093.80</td>\n",
       "      <td>10177.80</td>\n",
       "      <td>10040.75</td>\n",
       "      <td>10142.15</td>\n",
       "      <td>987122302</td>\n",
       "      <td>37824.63</td>\n",
       "    </tr>\n",
       "    <tr>\n",
       "      <th>...</th>\n",
       "      <td>...</td>\n",
       "      <td>...</td>\n",
       "      <td>...</td>\n",
       "      <td>...</td>\n",
       "      <td>...</td>\n",
       "      <td>...</td>\n",
       "      <td>...</td>\n",
       "    </tr>\n",
       "    <tr>\n",
       "      <th>91</th>\n",
       "      <td>07-Oct-20</td>\n",
       "      <td>11679.25</td>\n",
       "      <td>11763.05</td>\n",
       "      <td>11629.35</td>\n",
       "      <td>11738.85</td>\n",
       "      <td>513367516</td>\n",
       "      <td>32935.98</td>\n",
       "    </tr>\n",
       "    <tr>\n",
       "      <th>92</th>\n",
       "      <td>08-Oct-20</td>\n",
       "      <td>11835.40</td>\n",
       "      <td>11905.70</td>\n",
       "      <td>11791.15</td>\n",
       "      <td>11834.60</td>\n",
       "      <td>608768573</td>\n",
       "      <td>38677.49</td>\n",
       "    </tr>\n",
       "    <tr>\n",
       "      <th>93</th>\n",
       "      <td>09-Oct-20</td>\n",
       "      <td>11852.05</td>\n",
       "      <td>11938.60</td>\n",
       "      <td>11805.20</td>\n",
       "      <td>11914.20</td>\n",
       "      <td>611079482</td>\n",
       "      <td>34546.80</td>\n",
       "    </tr>\n",
       "    <tr>\n",
       "      <th>94</th>\n",
       "      <td>12-Oct-20</td>\n",
       "      <td>11973.55</td>\n",
       "      <td>12022.05</td>\n",
       "      <td>11867.20</td>\n",
       "      <td>11930.95</td>\n",
       "      <td>522627571</td>\n",
       "      <td>26586.47</td>\n",
       "    </tr>\n",
       "    <tr>\n",
       "      <th>95</th>\n",
       "      <td>13-Oct-20</td>\n",
       "      <td>11934.65</td>\n",
       "      <td>11988.20</td>\n",
       "      <td>11888.90</td>\n",
       "      <td>11934.50</td>\n",
       "      <td>458304851</td>\n",
       "      <td>29403.22</td>\n",
       "    </tr>\n",
       "  </tbody>\n",
       "</table>\n",
       "<p>96 rows × 7 columns</p>\n",
       "</div>"
      ],
      "text/plain": [
       "         Date      Open      High       Low     Close  Shares Traded  \\\n",
       "0   01-Jun-20   9726.85   9931.60   9706.95   9826.15      794183122   \n",
       "1   02-Jun-20   9880.85   9995.60   9824.05   9979.10      770192848   \n",
       "2   03-Jun-20  10108.30  10176.20  10035.55  10061.55      794664422   \n",
       "3   04-Jun-20  10054.25  10123.85   9944.25  10029.10      775106567   \n",
       "4   05-Jun-20  10093.80  10177.80  10040.75  10142.15      987122302   \n",
       "..        ...       ...       ...       ...       ...            ...   \n",
       "91  07-Oct-20  11679.25  11763.05  11629.35  11738.85      513367516   \n",
       "92  08-Oct-20  11835.40  11905.70  11791.15  11834.60      608768573   \n",
       "93  09-Oct-20  11852.05  11938.60  11805.20  11914.20      611079482   \n",
       "94  12-Oct-20  11973.55  12022.05  11867.20  11930.95      522627571   \n",
       "95  13-Oct-20  11934.65  11988.20  11888.90  11934.50      458304851   \n",
       "\n",
       "    Turnover (Rs. Cr)  \n",
       "0            38096.92  \n",
       "1            36723.11  \n",
       "2            38343.61  \n",
       "3            36399.04  \n",
       "4            37824.63  \n",
       "..                ...  \n",
       "91           32935.98  \n",
       "92           38677.49  \n",
       "93           34546.80  \n",
       "94           26586.47  \n",
       "95           29403.22  \n",
       "\n",
       "[96 rows x 7 columns]"
      ]
     },
     "execution_count": 3,
     "metadata": {},
     "output_type": "execute_result"
    }
   ],
   "source": [
    "df"
   ]
  },
  {
   "cell_type": "code",
   "execution_count": 4,
   "metadata": {},
   "outputs": [
    {
     "data": {
      "text/html": [
       "<div>\n",
       "<style scoped>\n",
       "    .dataframe tbody tr th:only-of-type {\n",
       "        vertical-align: middle;\n",
       "    }\n",
       "\n",
       "    .dataframe tbody tr th {\n",
       "        vertical-align: top;\n",
       "    }\n",
       "\n",
       "    .dataframe thead th {\n",
       "        text-align: right;\n",
       "    }\n",
       "</style>\n",
       "<table border=\"1\" class=\"dataframe\">\n",
       "  <thead>\n",
       "    <tr style=\"text-align: right;\">\n",
       "      <th></th>\n",
       "      <th>Date</th>\n",
       "      <th>Open</th>\n",
       "      <th>High</th>\n",
       "      <th>Low</th>\n",
       "      <th>Close</th>\n",
       "      <th>Shares Traded</th>\n",
       "      <th>Turnover (Rs. Cr)</th>\n",
       "    </tr>\n",
       "  </thead>\n",
       "  <tbody>\n",
       "    <tr>\n",
       "      <th>0</th>\n",
       "      <td>01-Jun-20</td>\n",
       "      <td>9726.85</td>\n",
       "      <td>9931.60</td>\n",
       "      <td>9706.95</td>\n",
       "      <td>9826.15</td>\n",
       "      <td>794183122</td>\n",
       "      <td>38096.92</td>\n",
       "    </tr>\n",
       "    <tr>\n",
       "      <th>1</th>\n",
       "      <td>02-Jun-20</td>\n",
       "      <td>9880.85</td>\n",
       "      <td>9995.60</td>\n",
       "      <td>9824.05</td>\n",
       "      <td>9979.10</td>\n",
       "      <td>770192848</td>\n",
       "      <td>36723.11</td>\n",
       "    </tr>\n",
       "    <tr>\n",
       "      <th>2</th>\n",
       "      <td>03-Jun-20</td>\n",
       "      <td>10108.30</td>\n",
       "      <td>10176.20</td>\n",
       "      <td>10035.55</td>\n",
       "      <td>10061.55</td>\n",
       "      <td>794664422</td>\n",
       "      <td>38343.61</td>\n",
       "    </tr>\n",
       "    <tr>\n",
       "      <th>3</th>\n",
       "      <td>04-Jun-20</td>\n",
       "      <td>10054.25</td>\n",
       "      <td>10123.85</td>\n",
       "      <td>9944.25</td>\n",
       "      <td>10029.10</td>\n",
       "      <td>775106567</td>\n",
       "      <td>36399.04</td>\n",
       "    </tr>\n",
       "    <tr>\n",
       "      <th>4</th>\n",
       "      <td>05-Jun-20</td>\n",
       "      <td>10093.80</td>\n",
       "      <td>10177.80</td>\n",
       "      <td>10040.75</td>\n",
       "      <td>10142.15</td>\n",
       "      <td>987122302</td>\n",
       "      <td>37824.63</td>\n",
       "    </tr>\n",
       "  </tbody>\n",
       "</table>\n",
       "</div>"
      ],
      "text/plain": [
       "        Date      Open      High       Low     Close  Shares Traded  \\\n",
       "0  01-Jun-20   9726.85   9931.60   9706.95   9826.15      794183122   \n",
       "1  02-Jun-20   9880.85   9995.60   9824.05   9979.10      770192848   \n",
       "2  03-Jun-20  10108.30  10176.20  10035.55  10061.55      794664422   \n",
       "3  04-Jun-20  10054.25  10123.85   9944.25  10029.10      775106567   \n",
       "4  05-Jun-20  10093.80  10177.80  10040.75  10142.15      987122302   \n",
       "\n",
       "   Turnover (Rs. Cr)  \n",
       "0           38096.92  \n",
       "1           36723.11  \n",
       "2           38343.61  \n",
       "3           36399.04  \n",
       "4           37824.63  "
      ]
     },
     "execution_count": 4,
     "metadata": {},
     "output_type": "execute_result"
    }
   ],
   "source": [
    "df.head()"
   ]
  },
  {
   "cell_type": "code",
   "execution_count": 5,
   "metadata": {},
   "outputs": [
    {
     "name": "stdout",
     "output_type": "stream",
     "text": [
      "float64\n"
     ]
    }
   ],
   "source": [
    "print(df['Turnover (Rs. Cr)'].dtype)"
   ]
  },
  {
   "cell_type": "code",
   "execution_count": 6,
   "metadata": {},
   "outputs": [
    {
     "name": "stdout",
     "output_type": "stream",
     "text": [
      "0     38096.92\n",
      "1     36723.11\n",
      "2     38343.61\n",
      "3     36399.04\n",
      "4     37824.63\n",
      "        ...   \n",
      "91    32935.98\n",
      "92    38677.49\n",
      "93    34546.80\n",
      "94    26586.47\n",
      "95    29403.22\n",
      "Name: Turnover (Rs. Cr), Length: 96, dtype: float64\n"
     ]
    }
   ],
   "source": [
    "print(df['Turnover (Rs. Cr)'])"
   ]
  },
  {
   "cell_type": "code",
   "execution_count": 7,
   "metadata": {},
   "outputs": [
    {
     "data": {
      "text/plain": [
       "0      9706.95\n",
       "1      9824.05\n",
       "2     10035.55\n",
       "3      9944.25\n",
       "4     10040.75\n",
       "        ...   \n",
       "91    11629.35\n",
       "92    11791.15\n",
       "93    11805.20\n",
       "94    11867.20\n",
       "95    11888.90\n",
       "Name: Low, Length: 96, dtype: category\n",
       "Categories (96, float64): [9544.35, 9706.95, 9726.35, 9728.50, ..., 11791.15, 11805.20, 11867.20, 11888.90]"
      ]
     },
     "execution_count": 7,
     "metadata": {},
     "output_type": "execute_result"
    }
   ],
   "source": [
    "df['Low'].astype('category')   #it reduces the size of Dataframe (df)"
   ]
  },
  {
   "cell_type": "markdown",
   "metadata": {},
   "source": [
    "## How to Write Csv in pandas"
   ]
  },
  {
   "cell_type": "code",
   "execution_count": 12,
   "metadata": {},
   "outputs": [],
   "source": [
    "hf = pd.DataFrame([[1,2,3,4],[5,6,7,8],[9,10,11,12],[45,78,96,10]],columns=['A','B','C','D'])"
   ]
  },
  {
   "cell_type": "code",
   "execution_count": 13,
   "metadata": {},
   "outputs": [
    {
     "data": {
      "text/html": [
       "<div>\n",
       "<style scoped>\n",
       "    .dataframe tbody tr th:only-of-type {\n",
       "        vertical-align: middle;\n",
       "    }\n",
       "\n",
       "    .dataframe tbody tr th {\n",
       "        vertical-align: top;\n",
       "    }\n",
       "\n",
       "    .dataframe thead th {\n",
       "        text-align: right;\n",
       "    }\n",
       "</style>\n",
       "<table border=\"1\" class=\"dataframe\">\n",
       "  <thead>\n",
       "    <tr style=\"text-align: right;\">\n",
       "      <th></th>\n",
       "      <th>A</th>\n",
       "      <th>B</th>\n",
       "      <th>C</th>\n",
       "      <th>D</th>\n",
       "    </tr>\n",
       "  </thead>\n",
       "  <tbody>\n",
       "    <tr>\n",
       "      <th>0</th>\n",
       "      <td>1</td>\n",
       "      <td>2</td>\n",
       "      <td>3</td>\n",
       "      <td>4</td>\n",
       "    </tr>\n",
       "    <tr>\n",
       "      <th>1</th>\n",
       "      <td>5</td>\n",
       "      <td>6</td>\n",
       "      <td>7</td>\n",
       "      <td>8</td>\n",
       "    </tr>\n",
       "    <tr>\n",
       "      <th>2</th>\n",
       "      <td>9</td>\n",
       "      <td>10</td>\n",
       "      <td>11</td>\n",
       "      <td>12</td>\n",
       "    </tr>\n",
       "    <tr>\n",
       "      <th>3</th>\n",
       "      <td>45</td>\n",
       "      <td>78</td>\n",
       "      <td>96</td>\n",
       "      <td>10</td>\n",
       "    </tr>\n",
       "  </tbody>\n",
       "</table>\n",
       "</div>"
      ],
      "text/plain": [
       "    A   B   C   D\n",
       "0   1   2   3   4\n",
       "1   5   6   7   8\n",
       "2   9  10  11  12\n",
       "3  45  78  96  10"
      ]
     },
     "execution_count": 13,
     "metadata": {},
     "output_type": "execute_result"
    }
   ],
   "source": [
    "hf.head()"
   ]
  },
  {
   "cell_type": "code",
   "execution_count": 11,
   "metadata": {},
   "outputs": [],
   "source": [
    "hf.to_csv('export.csv',index=False)"
   ]
  },
  {
   "cell_type": "code",
   "execution_count": 14,
   "metadata": {},
   "outputs": [],
   "source": [
    "hf1 = pd.DataFrame([[11,2,33,44],[55,6,77,88],[19,10,18,62],[45,78,96,10]],columns=['X','Y','Z','W'])"
   ]
  },
  {
   "cell_type": "code",
   "execution_count": 15,
   "metadata": {},
   "outputs": [
    {
     "data": {
      "text/html": [
       "<div>\n",
       "<style scoped>\n",
       "    .dataframe tbody tr th:only-of-type {\n",
       "        vertical-align: middle;\n",
       "    }\n",
       "\n",
       "    .dataframe tbody tr th {\n",
       "        vertical-align: top;\n",
       "    }\n",
       "\n",
       "    .dataframe thead th {\n",
       "        text-align: right;\n",
       "    }\n",
       "</style>\n",
       "<table border=\"1\" class=\"dataframe\">\n",
       "  <thead>\n",
       "    <tr style=\"text-align: right;\">\n",
       "      <th></th>\n",
       "      <th>X</th>\n",
       "      <th>Y</th>\n",
       "      <th>Z</th>\n",
       "      <th>W</th>\n",
       "    </tr>\n",
       "  </thead>\n",
       "  <tbody>\n",
       "    <tr>\n",
       "      <th>0</th>\n",
       "      <td>11</td>\n",
       "      <td>2</td>\n",
       "      <td>33</td>\n",
       "      <td>44</td>\n",
       "    </tr>\n",
       "    <tr>\n",
       "      <th>1</th>\n",
       "      <td>55</td>\n",
       "      <td>6</td>\n",
       "      <td>77</td>\n",
       "      <td>88</td>\n",
       "    </tr>\n",
       "    <tr>\n",
       "      <th>2</th>\n",
       "      <td>19</td>\n",
       "      <td>10</td>\n",
       "      <td>18</td>\n",
       "      <td>62</td>\n",
       "    </tr>\n",
       "    <tr>\n",
       "      <th>3</th>\n",
       "      <td>45</td>\n",
       "      <td>78</td>\n",
       "      <td>96</td>\n",
       "      <td>10</td>\n",
       "    </tr>\n",
       "  </tbody>\n",
       "</table>\n",
       "</div>"
      ],
      "text/plain": [
       "    X   Y   Z   W\n",
       "0  11   2  33  44\n",
       "1  55   6  77  88\n",
       "2  19  10  18  62\n",
       "3  45  78  96  10"
      ]
     },
     "execution_count": 15,
     "metadata": {},
     "output_type": "execute_result"
    }
   ],
   "source": [
    "hf1"
   ]
  },
  {
   "cell_type": "code",
   "execution_count": 19,
   "metadata": {},
   "outputs": [],
   "source": [
    "hf3 = pd.merge(hf,hf1,right_on='Y',left_on='B')   #merging two dataframes"
   ]
  },
  {
   "cell_type": "code",
   "execution_count": 20,
   "metadata": {},
   "outputs": [
    {
     "data": {
      "text/html": [
       "<div>\n",
       "<style scoped>\n",
       "    .dataframe tbody tr th:only-of-type {\n",
       "        vertical-align: middle;\n",
       "    }\n",
       "\n",
       "    .dataframe tbody tr th {\n",
       "        vertical-align: top;\n",
       "    }\n",
       "\n",
       "    .dataframe thead th {\n",
       "        text-align: right;\n",
       "    }\n",
       "</style>\n",
       "<table border=\"1\" class=\"dataframe\">\n",
       "  <thead>\n",
       "    <tr style=\"text-align: right;\">\n",
       "      <th></th>\n",
       "      <th>A</th>\n",
       "      <th>B</th>\n",
       "      <th>C</th>\n",
       "      <th>D</th>\n",
       "      <th>X</th>\n",
       "      <th>Y</th>\n",
       "      <th>Z</th>\n",
       "      <th>W</th>\n",
       "    </tr>\n",
       "  </thead>\n",
       "  <tbody>\n",
       "    <tr>\n",
       "      <th>0</th>\n",
       "      <td>1</td>\n",
       "      <td>2</td>\n",
       "      <td>3</td>\n",
       "      <td>4</td>\n",
       "      <td>11</td>\n",
       "      <td>2</td>\n",
       "      <td>33</td>\n",
       "      <td>44</td>\n",
       "    </tr>\n",
       "    <tr>\n",
       "      <th>1</th>\n",
       "      <td>5</td>\n",
       "      <td>6</td>\n",
       "      <td>7</td>\n",
       "      <td>8</td>\n",
       "      <td>55</td>\n",
       "      <td>6</td>\n",
       "      <td>77</td>\n",
       "      <td>88</td>\n",
       "    </tr>\n",
       "    <tr>\n",
       "      <th>2</th>\n",
       "      <td>9</td>\n",
       "      <td>10</td>\n",
       "      <td>11</td>\n",
       "      <td>12</td>\n",
       "      <td>19</td>\n",
       "      <td>10</td>\n",
       "      <td>18</td>\n",
       "      <td>62</td>\n",
       "    </tr>\n",
       "    <tr>\n",
       "      <th>3</th>\n",
       "      <td>45</td>\n",
       "      <td>78</td>\n",
       "      <td>96</td>\n",
       "      <td>10</td>\n",
       "      <td>45</td>\n",
       "      <td>78</td>\n",
       "      <td>96</td>\n",
       "      <td>10</td>\n",
       "    </tr>\n",
       "  </tbody>\n",
       "</table>\n",
       "</div>"
      ],
      "text/plain": [
       "    A   B   C   D   X   Y   Z   W\n",
       "0   1   2   3   4  11   2  33  44\n",
       "1   5   6   7   8  55   6  77  88\n",
       "2   9  10  11  12  19  10  18  62\n",
       "3  45  78  96  10  45  78  96  10"
      ]
     },
     "execution_count": 20,
     "metadata": {},
     "output_type": "execute_result"
    }
   ],
   "source": [
    "hf3"
   ]
  },
  {
   "cell_type": "code",
   "execution_count": null,
   "metadata": {},
   "outputs": [],
   "source": []
  }
 ],
 "metadata": {
  "kernelspec": {
   "display_name": "Python 3",
   "language": "python",
   "name": "python3"
  },
  "language_info": {
   "codemirror_mode": {
    "name": "ipython",
    "version": 3
   },
   "file_extension": ".py",
   "mimetype": "text/x-python",
   "name": "python",
   "nbconvert_exporter": "python",
   "pygments_lexer": "ipython3",
   "version": "3.8.2"
  }
 },
 "nbformat": 4,
 "nbformat_minor": 4
}
